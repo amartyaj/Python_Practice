{
  "nbformat": 4,
  "nbformat_minor": 0,
  "metadata": {
    "colab": {
      "provenance": [],
      "authorship_tag": "ABX9TyMcnqjgWjFzuhL/2akQ+nd2",
      "include_colab_link": true
    },
    "kernelspec": {
      "name": "python3",
      "display_name": "Python 3"
    },
    "language_info": {
      "name": "python"
    }
  },
  "cells": [
    {
      "cell_type": "markdown",
      "metadata": {
        "id": "view-in-github",
        "colab_type": "text"
      },
      "source": [
        "<a href=\"https://colab.research.google.com/github/amartyaj/Python_Practice/blob/main/Untitled1.ipynb\" target=\"_parent\"><img src=\"https://colab.research.google.com/assets/colab-badge.svg\" alt=\"Open In Colab\"/></a>"
      ]
    },
    {
      "cell_type": "code",
      "source": [
        "from pprint import pprint\n",
        "import math as m\n",
        "a = True\n",
        "pprint(a)\n",
        "a = 4.99\n",
        "print(a)\n",
        "print(int(a))\n",
        "print(m.floor(a))\n",
        "\n",
        "print(m.ceil(a))"
      ],
      "metadata": {
        "colab": {
          "base_uri": "https://localhost:8080/"
        },
        "id": "1YtcyDhoE4aM",
        "outputId": "b872692d-20d2-4526-92d0-52d496a9cae2"
      },
      "execution_count": null,
      "outputs": [
        {
          "output_type": "stream",
          "name": "stdout",
          "text": [
            "True\n",
            "4.99\n",
            "4\n",
            "4\n",
            "5\n"
          ]
        }
      ]
    },
    {
      "cell_type": "code",
      "source": [
        "import numpy as np\n",
        "demo_matrix = np.array(([13,35,74,48], [23,37,37,38],[73,39,93,39]))\n",
        "demo_matrix[0:3, 1:3]"
      ],
      "metadata": {
        "colab": {
          "base_uri": "https://localhost:8080/"
        },
        "id": "heTkgUPsDihM",
        "outputId": "88ce5a50-b9b9-4a11-beed-71ae10e08acf"
      },
      "execution_count": null,
      "outputs": [
        {
          "output_type": "execute_result",
          "data": {
            "text/plain": [
              "array([[35, 74],\n",
              "       [37, 37],\n",
              "       [39, 93]])"
            ]
          },
          "metadata": {},
          "execution_count": 3
        }
      ]
    },
    {
      "cell_type": "code",
      "source": [
        "import numpy as np\n",
        "demo_array = np.arange(0,10)\n",
        "demo_array<3\n",
        "demo_array.describe()"
      ],
      "metadata": {
        "colab": {
          "base_uri": "https://localhost:8080/",
          "height": 207
        },
        "id": "86Aqo9_DEWW4",
        "outputId": "9a8ab5a5-f8d4-4e67-92c5-91588912f4b7"
      },
      "execution_count": null,
      "outputs": [
        {
          "output_type": "error",
          "ename": "AttributeError",
          "evalue": "'numpy.ndarray' object has no attribute 'describe'",
          "traceback": [
            "\u001b[0;31m---------------------------------------------------------------------------\u001b[0m",
            "\u001b[0;31mAttributeError\u001b[0m                            Traceback (most recent call last)",
            "\u001b[0;32m<ipython-input-19-baa63fe55149>\u001b[0m in \u001b[0;36m<cell line: 0>\u001b[0;34m()\u001b[0m\n\u001b[1;32m      2\u001b[0m \u001b[0mdemo_array\u001b[0m \u001b[0;34m=\u001b[0m \u001b[0mnp\u001b[0m\u001b[0;34m.\u001b[0m\u001b[0marange\u001b[0m\u001b[0;34m(\u001b[0m\u001b[0;36m0\u001b[0m\u001b[0;34m,\u001b[0m\u001b[0;36m10\u001b[0m\u001b[0;34m)\u001b[0m\u001b[0;34m\u001b[0m\u001b[0;34m\u001b[0m\u001b[0m\n\u001b[1;32m      3\u001b[0m \u001b[0mdemo_array\u001b[0m\u001b[0;34m<\u001b[0m\u001b[0;36m3\u001b[0m\u001b[0;34m\u001b[0m\u001b[0;34m\u001b[0m\u001b[0m\n\u001b[0;32m----> 4\u001b[0;31m \u001b[0mdemo_array\u001b[0m\u001b[0;34m.\u001b[0m\u001b[0mdescribe\u001b[0m\u001b[0;34m(\u001b[0m\u001b[0;34m)\u001b[0m\u001b[0;34m\u001b[0m\u001b[0;34m\u001b[0m\u001b[0m\n\u001b[0m",
            "\u001b[0;31mAttributeError\u001b[0m: 'numpy.ndarray' object has no attribute 'describe'"
          ]
        }
      ]
    },
    {
      "cell_type": "code",
      "source": [
        "from google.colab import drive\n",
        "drive.mount('/content/drive')\n"
      ],
      "metadata": {
        "colab": {
          "base_uri": "https://localhost:8080/",
          "height": 261
        },
        "id": "1Fb1NjaKdlRb",
        "outputId": "f9e32a90-b2cc-4e9b-bc75-a480a4a4d3ee"
      },
      "execution_count": null,
      "outputs": [
        {
          "output_type": "stream",
          "name": "stdout",
          "text": [
            "Drive already mounted at /content/drive; to attempt to forcibly remount, call drive.mount(\"/content/drive\", force_remount=True).\n"
          ]
        },
        {
          "output_type": "error",
          "ename": "TypeError",
          "evalue": "'tuple' object is not callable",
          "traceback": [
            "\u001b[0;31m---------------------------------------------------------------------------\u001b[0m",
            "\u001b[0;31mTypeError\u001b[0m                                 Traceback (most recent call last)",
            "\u001b[0;32m<ipython-input-24-4563a382c1b4>\u001b[0m in \u001b[0;36m<cell line: 0>\u001b[0;34m()\u001b[0m\n\u001b[1;32m      2\u001b[0m \u001b[0mdrive\u001b[0m\u001b[0;34m.\u001b[0m\u001b[0mmount\u001b[0m\u001b[0;34m(\u001b[0m\u001b[0;34m'/content/drive'\u001b[0m\u001b[0;34m)\u001b[0m\u001b[0;34m\u001b[0m\u001b[0;34m\u001b[0m\u001b[0m\n\u001b[1;32m      3\u001b[0m \u001b[0mdf1\u001b[0m \u001b[0;34m=\u001b[0m \u001b[0mpd\u001b[0m\u001b[0;34m.\u001b[0m\u001b[0mread_csv\u001b[0m\u001b[0;34m(\u001b[0m\u001b[0;34m'/content/drive/MyDrive/Colab Notebooks/books.csv'\u001b[0m\u001b[0;34m)\u001b[0m\u001b[0;34m\u001b[0m\u001b[0;34m\u001b[0m\u001b[0m\n\u001b[0;32m----> 4\u001b[0;31m \u001b[0mdf1\u001b[0m\u001b[0;34m.\u001b[0m\u001b[0mshape\u001b[0m\u001b[0;34m(\u001b[0m\u001b[0;34m)\u001b[0m\u001b[0;34m\u001b[0m\u001b[0;34m\u001b[0m\u001b[0m\n\u001b[0m",
            "\u001b[0;31mTypeError\u001b[0m: 'tuple' object is not callable"
          ]
        }
      ]
    },
    {
      "cell_type": "code",
      "source": [
        "df1 = pd.read_csv('/content/drive/MyDrive/Colab Notebooks/books.csv')\n",
        "df1.shape\n",
        "df1.describe\n",
        "df1.info\n",
        "df1.columns\n",
        "df1.dtypes\n",
        "# df1[df1['average_rating'] > 4].count()\n",
        "\n",
        "# df1[(df1['average_rating']>4.5) & (df1['ratings_count']<10)]\n",
        "# df1[df1['language_code'] == 'eng']['average_rating'].mean()\n",
        "# df1['num_pages'].median()\n",
        "# df1['num_pages'].mean()\n",
        "df1[df1['year'] == 2010].count()\n",
        "df1[(df1['publisher'] == 'DAW') & (df1['average_rating'] > 4)]['author'].unique()\n",
        "df1[(df1['num_pages'] > 500) & (df1['year'] > 2010)]['title'].count()\n",
        "df1[df1['author'] == 'Agatha Christie']['title'].count()\n",
        "df1[(df1['language_code'] == 'spa') & (df1['year'] > 2000)]['title'].count()\n"
      ],
      "metadata": {
        "colab": {
          "base_uri": "https://localhost:8080/"
        },
        "id": "yYYPfbrwekNt",
        "outputId": "d972ad52-bca0-4626-fcf5-a677b11af0bb"
      },
      "execution_count": null,
      "outputs": [
        {
          "output_type": "execute_result",
          "data": {
            "text/plain": [
              "84"
            ]
          },
          "metadata": {},
          "execution_count": 67
        }
      ]
    },
    {
      "cell_type": "code",
      "source": [
        "# Knapsack Problem:\n",
        "def count_ways(amount, coins):\n",
        "    print(\"Amount: \" + str(amount) + \"\\n\" + \"Coins: \" + str(coins))\n",
        "    coins.sort()\n",
        "    print(\"Sorted Coins: \" + str(coins))\n",
        "    def backtrack(target, start, path, result):\n",
        "        # print(\"target: \" + str(target) + \", \" + \"start: \" + str(start) + \", \" + \"path: \" + str(path) + \", \" + \"result: \" + str(result))\n",
        "        if target == 0:\n",
        "            # If the target amount is reached, add the current combination to the result\n",
        "            result.append(path)\n",
        "            print(\"target: \" + str(target) + \", \" + \"start: \" + str(start) + \", \" + \"path: \" + str(path) + \", \" + \"result: \" + str(result))\n",
        "            return\n",
        "        for i in range(start, len(coins)):\n",
        "            print(\"i: \" + str(i))\n",
        "            print(\"Coin: \" + str(coins[i]))\n",
        "            if coins[i] > target:\n",
        "                # Skip coins that are larger than the remaining amount\n",
        "                print(\"target: \" + str(target) + \", \" + \"start: \" + str(start) + \", \" + \"path: \" + str(path) + \", \" + \"result: \" + str(result))\n",
        "                continue\n",
        "            # Recursively explore combinations with the current coin\n",
        "            print(\"target: \" + str(target) + \", \" + \"start: \" + str(start) + \", \" + \"path: \" + str(path) + \", \" + \"result: \" + str(result))\n",
        "            print(\"target - coins[i]: \" + str(target - coins[i]) + \", \" + \"i: \" + str(i) + \", \" + \"path + [coins[i]]: \" + str(path + [coins[i]]) + \", \" + \"result: \" + str(result))\n",
        "            backtrack(target - coins[i], i, path + [coins[i]], result)\n",
        "\n",
        "    # List to store all valid combinations\n",
        "    result = []\n",
        "    # Start the backtracking process\n",
        "    backtrack(amount, 0, [], result)\n",
        "    return result\n",
        "\n",
        "# Example usage\n",
        "N = 3\n",
        "C = [8, 3, 1, 2]\n",
        "combinations = count_ways(N, C)\n",
        "print(f\"Total ways: {len(combinations)}\")\n",
        "print(\"Combinations:\")\n",
        "for combo in combinations:\n",
        "    print(combo)"
      ],
      "metadata": {
        "colab": {
          "base_uri": "https://localhost:8080/"
        },
        "id": "0JyBS868G_IO",
        "outputId": "89fd4818-d6e4-4085-d6fe-3f164a0e2acf"
      },
      "execution_count": null,
      "outputs": [
        {
          "output_type": "stream",
          "name": "stdout",
          "text": [
            "Amount: 3\n",
            "Coins: [8, 3, 1, 2]\n",
            "Sorted Coins: [1, 2, 3, 8]\n",
            "i: 0\n",
            "Coin: 1\n",
            "target: 3, start: 0, path: [], result: []\n",
            "target - coins[i]: 2, i: 0, path + [coins[i]]: [1], result: []\n",
            "i: 0\n",
            "Coin: 1\n",
            "target: 2, start: 0, path: [1], result: []\n",
            "target - coins[i]: 1, i: 0, path + [coins[i]]: [1, 1], result: []\n",
            "i: 0\n",
            "Coin: 1\n",
            "target: 1, start: 0, path: [1, 1], result: []\n",
            "target - coins[i]: 0, i: 0, path + [coins[i]]: [1, 1, 1], result: []\n",
            "target: 0, start: 0, path: [1, 1, 1], result: [[1, 1, 1]]\n",
            "i: 1\n",
            "Coin: 2\n",
            "target: 1, start: 0, path: [1, 1], result: [[1, 1, 1]]\n",
            "i: 2\n",
            "Coin: 3\n",
            "target: 1, start: 0, path: [1, 1], result: [[1, 1, 1]]\n",
            "i: 3\n",
            "Coin: 8\n",
            "target: 1, start: 0, path: [1, 1], result: [[1, 1, 1]]\n",
            "i: 1\n",
            "Coin: 2\n",
            "target: 2, start: 0, path: [1], result: [[1, 1, 1]]\n",
            "target - coins[i]: 0, i: 1, path + [coins[i]]: [1, 2], result: [[1, 1, 1]]\n",
            "target: 0, start: 1, path: [1, 2], result: [[1, 1, 1], [1, 2]]\n",
            "i: 2\n",
            "Coin: 3\n",
            "target: 2, start: 0, path: [1], result: [[1, 1, 1], [1, 2]]\n",
            "i: 3\n",
            "Coin: 8\n",
            "target: 2, start: 0, path: [1], result: [[1, 1, 1], [1, 2]]\n",
            "i: 1\n",
            "Coin: 2\n",
            "target: 3, start: 0, path: [], result: [[1, 1, 1], [1, 2]]\n",
            "target - coins[i]: 1, i: 1, path + [coins[i]]: [2], result: [[1, 1, 1], [1, 2]]\n",
            "i: 1\n",
            "Coin: 2\n",
            "target: 1, start: 1, path: [2], result: [[1, 1, 1], [1, 2]]\n",
            "i: 2\n",
            "Coin: 3\n",
            "target: 1, start: 1, path: [2], result: [[1, 1, 1], [1, 2]]\n",
            "i: 3\n",
            "Coin: 8\n",
            "target: 1, start: 1, path: [2], result: [[1, 1, 1], [1, 2]]\n",
            "i: 2\n",
            "Coin: 3\n",
            "target: 3, start: 0, path: [], result: [[1, 1, 1], [1, 2]]\n",
            "target - coins[i]: 0, i: 2, path + [coins[i]]: [3], result: [[1, 1, 1], [1, 2]]\n",
            "target: 0, start: 2, path: [3], result: [[1, 1, 1], [1, 2], [3]]\n",
            "i: 3\n",
            "Coin: 8\n",
            "target: 3, start: 0, path: [], result: [[1, 1, 1], [1, 2], [3]]\n",
            "Total ways: 3\n",
            "Combinations:\n",
            "[1, 1, 1]\n",
            "[1, 2]\n",
            "[3]\n"
          ]
        }
      ]
    },
    {
      "cell_type": "code",
      "source": [
        "# Knapsack Problem:\n",
        "def count_ways(amount, coins):\n",
        "    # coins.sort()\n",
        "    target_array = []\n",
        "    def backtrack(target, start, path, result):\n",
        "        target_array.append(target)\n",
        "        max_target = max(target_array)\n",
        "        if(target == max_target):\n",
        "            print(\"target: \" + str(target) + \", \" + \"start: \" + str(start) + \", \" + \"path: \" + str(path) + \", \" + \"result: \" + str(result))\n",
        "        if target == 0:\n",
        "            result.append(path)\n",
        "            # print(\"target: \" + str(target) + \", \" + \"start: \" + str(start) + \", \" + \"path: \" + str(path) + \", \" + \"result: \" + str(result))\n",
        "            return\n",
        "        for i in range(start, len(coins)):\n",
        "            # print(f\"{i} -> Here\")\n",
        "            if coins[i] > target:\n",
        "                continue\n",
        "            print(\"target: \" + str(target - coins[i]) + \", \" + \"start: \" + str(i) + \", \" + \"path: \" + str(path + [coins[i]]) + \", \" + \"result: \" + str(result))\n",
        "            backtrack(target - coins[i], i, path + [coins[i]], result)\n",
        "    result = []\n",
        "    backtrack(amount, 0, [], result)\n",
        "    return result\n",
        "\n",
        "# Example usage\n",
        "N = 5\n",
        "C = [8, 3, 1, 2]\n",
        "C.sort()\n",
        "C = [x for x in C if x <= N]\n",
        "# print(C)\n",
        "combinations = count_ways(N, C)\n",
        "print(f\"Total ways: {len(combinations)}\")\n",
        "print(\"Combinations:\")\n",
        "lengths = []\n",
        "for combo in combinations:\n",
        "    print(combo)\n",
        "    lengths.append(len(combo))\n",
        "print(\"Length of shortest way: \" + str(min(lengths)))"
      ],
      "metadata": {
        "colab": {
          "base_uri": "https://localhost:8080/"
        },
        "id": "ZRbh9wJIlQxz",
        "outputId": "c48da883-e4ec-4604-8113-0d89e993785b"
      },
      "execution_count": null,
      "outputs": [
        {
          "output_type": "stream",
          "name": "stdout",
          "text": [
            "target: 5, start: 0, path: [], result: []\n",
            "target: 4, start: 0, path: [1], result: []\n",
            "target: 3, start: 0, path: [1, 1], result: []\n",
            "target: 2, start: 0, path: [1, 1, 1], result: []\n",
            "target: 1, start: 0, path: [1, 1, 1, 1], result: []\n",
            "target: 0, start: 0, path: [1, 1, 1, 1, 1], result: []\n",
            "target: 0, start: 1, path: [1, 1, 1, 2], result: [[1, 1, 1, 1, 1]]\n",
            "target: 1, start: 1, path: [1, 1, 2], result: [[1, 1, 1, 1, 1], [1, 1, 1, 2]]\n",
            "target: 0, start: 2, path: [1, 1, 3], result: [[1, 1, 1, 1, 1], [1, 1, 1, 2]]\n",
            "target: 2, start: 1, path: [1, 2], result: [[1, 1, 1, 1, 1], [1, 1, 1, 2], [1, 1, 3]]\n",
            "target: 0, start: 1, path: [1, 2, 2], result: [[1, 1, 1, 1, 1], [1, 1, 1, 2], [1, 1, 3]]\n",
            "target: 1, start: 2, path: [1, 3], result: [[1, 1, 1, 1, 1], [1, 1, 1, 2], [1, 1, 3], [1, 2, 2]]\n",
            "target: 3, start: 1, path: [2], result: [[1, 1, 1, 1, 1], [1, 1, 1, 2], [1, 1, 3], [1, 2, 2]]\n",
            "target: 1, start: 1, path: [2, 2], result: [[1, 1, 1, 1, 1], [1, 1, 1, 2], [1, 1, 3], [1, 2, 2]]\n",
            "target: 0, start: 2, path: [2, 3], result: [[1, 1, 1, 1, 1], [1, 1, 1, 2], [1, 1, 3], [1, 2, 2]]\n",
            "target: 2, start: 2, path: [3], result: [[1, 1, 1, 1, 1], [1, 1, 1, 2], [1, 1, 3], [1, 2, 2], [2, 3]]\n",
            "Total ways: 5\n",
            "Combinations:\n",
            "[1, 1, 1, 1, 1]\n",
            "[1, 1, 1, 2]\n",
            "[1, 1, 3]\n",
            "[1, 2, 2]\n",
            "[2, 3]\n",
            "Length of shortest way: 2\n"
          ]
        }
      ]
    },
    {
      "cell_type": "code",
      "source": [
        "c = [1] + [2]\n",
        "print(c)"
      ],
      "metadata": {
        "colab": {
          "base_uri": "https://localhost:8080/"
        },
        "id": "oA9Nz19nruRI",
        "outputId": "b2a9b6e4-b769-4eeb-b26e-36839f9aa214"
      },
      "execution_count": null,
      "outputs": [
        {
          "output_type": "stream",
          "name": "stdout",
          "text": [
            "[1, 2]\n"
          ]
        }
      ]
    },
    {
      "cell_type": "code",
      "source": [
        "import pandas as pd\n",
        "flowers = pd.Series([2, 3, 5, 4], index=['lily', 'rose', 'daisy', 'lotus'])\n",
        "flowers['daisy']"
      ],
      "metadata": {
        "colab": {
          "base_uri": "https://localhost:8080/"
        },
        "id": "67Dl325mEun_",
        "outputId": "44f65dfb-0d48-463d-fc31-cdac1a61c11f"
      },
      "execution_count": null,
      "outputs": [
        {
          "output_type": "execute_result",
          "data": {
            "text/plain": [
              "5"
            ]
          },
          "metadata": {},
          "execution_count": 5
        }
      ]
    },
    {
      "cell_type": "code",
      "source": [
        "array_1 = np.linspace(0,20,6)\n",
        "array_2 = np.arange(0,20,6)\n",
        "array_1\n",
        "array_2\n",
        "a = np.arange(0,20)\n",
        "a[2:7]\n",
        "a[a < 3]\n",
        "np.cos([0, 1, 2, 3, 4])\n",
        "\n",
        "mat = np.array([[1, 2, 1], [4, 5, 9],[1, 8, 9]])\n",
        "\n",
        "mat[1] = 5\n",
        "mat\n",
        "\n",
        "np.ones([2, 2])\n",
        "\n",
        "n1 = np.matrix([[121, 144, 169], [196, 225, 256], [ 289, 324, 361]])\n",
        "n2 = np.matrix([[ 1, 4, 9], [ 1, 5, 4], [ 9, 4, 8]])\n",
        "n3 = n1 @ n2\n"
      ],
      "metadata": {
        "colab": {
          "base_uri": "https://localhost:8080/",
          "height": 207
        },
        "id": "S1kYOcTtVNjL",
        "outputId": "6e2906e2-166b-41e3-e538-ae3b326512fb"
      },
      "execution_count": null,
      "outputs": [
        {
          "output_type": "error",
          "ename": "AttributeError",
          "evalue": "'matrix' object has no attribute 'describe'",
          "traceback": [
            "\u001b[0;31m---------------------------------------------------------------------------\u001b[0m",
            "\u001b[0;31mAttributeError\u001b[0m                            Traceback (most recent call last)",
            "\u001b[0;32m<ipython-input-18-ba47774cb207>\u001b[0m in \u001b[0;36m<cell line: 0>\u001b[0;34m()\u001b[0m\n\u001b[1;32m     18\u001b[0m \u001b[0mn2\u001b[0m \u001b[0;34m=\u001b[0m \u001b[0mnp\u001b[0m\u001b[0;34m.\u001b[0m\u001b[0mmatrix\u001b[0m\u001b[0;34m(\u001b[0m\u001b[0;34m[\u001b[0m\u001b[0;34m[\u001b[0m \u001b[0;36m1\u001b[0m\u001b[0;34m,\u001b[0m \u001b[0;36m4\u001b[0m\u001b[0;34m,\u001b[0m \u001b[0;36m9\u001b[0m\u001b[0;34m]\u001b[0m\u001b[0;34m,\u001b[0m \u001b[0;34m[\u001b[0m \u001b[0;36m1\u001b[0m\u001b[0;34m,\u001b[0m \u001b[0;36m5\u001b[0m\u001b[0;34m,\u001b[0m \u001b[0;36m4\u001b[0m\u001b[0;34m]\u001b[0m\u001b[0;34m,\u001b[0m \u001b[0;34m[\u001b[0m \u001b[0;36m9\u001b[0m\u001b[0;34m,\u001b[0m \u001b[0;36m4\u001b[0m\u001b[0;34m,\u001b[0m \u001b[0;36m8\u001b[0m\u001b[0;34m]\u001b[0m\u001b[0;34m]\u001b[0m\u001b[0;34m)\u001b[0m\u001b[0;34m\u001b[0m\u001b[0;34m\u001b[0m\u001b[0m\n\u001b[1;32m     19\u001b[0m \u001b[0mn3\u001b[0m \u001b[0;34m=\u001b[0m \u001b[0mn1\u001b[0m \u001b[0;34m@\u001b[0m \u001b[0mn2\u001b[0m\u001b[0;34m\u001b[0m\u001b[0;34m\u001b[0m\u001b[0m\n\u001b[0;32m---> 20\u001b[0;31m \u001b[0mn3\u001b[0m\u001b[0;34m.\u001b[0m\u001b[0mdescribe\u001b[0m\u001b[0;34m(\u001b[0m\u001b[0;34m)\u001b[0m\u001b[0;34m\u001b[0m\u001b[0;34m\u001b[0m\u001b[0m\n\u001b[0m",
            "\u001b[0;31mAttributeError\u001b[0m: 'matrix' object has no attribute 'describe'"
          ]
        }
      ]
    },
    {
      "cell_type": "code",
      "source": [
        "mat = np.matrix([[ 1, 4, 9, 121, 144, 169],\n",
        "                [ 16, 25, 36, 196, 225, 256],\n",
        "                [ 49, 64, 81, 289, 324, 361]])\n",
        "np.mean(mat)"
      ],
      "metadata": {
        "colab": {
          "base_uri": "https://localhost:8080/"
        },
        "id": "j7bVAmOuVpOV",
        "outputId": "8ded9eab-203a-4028-a827-a715eac4ee71"
      },
      "execution_count": null,
      "outputs": [
        {
          "output_type": "execute_result",
          "data": {
            "text/plain": [
              "131.66666666666666"
            ]
          },
          "metadata": {},
          "execution_count": 9
        }
      ]
    },
    {
      "cell_type": "code",
      "source": [
        "import copy\n",
        "\n",
        "a = [1, 2, 3, 4]\n",
        "# del(a[2])\n",
        "# print(a)\n",
        "b = [2, 3, 4, 5]\n",
        "c = [3, 4, 5, 6]\n",
        "d = [4, 5, 6, 7]\n",
        "e = [a, b, c, d]\n",
        "f = e\n",
        "g = e[:]\n",
        "h = copy.deepcopy(e)\n",
        "\n",
        "for i in range(0, 4):\n",
        "  print(e[i][i])\n",
        "\n",
        "g = ['m', 'n', 'o', 'p']\n",
        "print(g[1])"
      ],
      "metadata": {
        "colab": {
          "base_uri": "https://localhost:8080/"
        },
        "id": "jGZN7MNMl3cW",
        "outputId": "aa234ca1-f258-4612-9cbe-a8128b1e3120"
      },
      "execution_count": null,
      "outputs": [
        {
          "output_type": "stream",
          "name": "stdout",
          "text": [
            "1\n",
            "3\n",
            "5\n",
            "7\n",
            "n\n"
          ]
        }
      ]
    },
    {
      "cell_type": "code",
      "source": [
        "a = int(input(\"Input your number: \"))\n",
        "b = 101\n",
        "\n",
        "if (a < b):\n",
        "    print(f\"{a} is less than {b}\")\n",
        "else:\n",
        "    print(f\"{a} is greater than or equal to {b}\")"
      ],
      "metadata": {
        "colab": {
          "base_uri": "https://localhost:8080/"
        },
        "id": "qN4HW4Su7IHu",
        "outputId": "9de43bb1-c022-437c-aa04-6ce7f7c53307"
      },
      "execution_count": null,
      "outputs": [
        {
          "output_type": "stream",
          "name": "stdout",
          "text": [
            "Input your number: 101\n",
            "101 is greater than or equal to 101\n"
          ]
        }
      ]
    },
    {
      "cell_type": "code",
      "source": [
        "x = [1, 2, 3, 4, 5]\n",
        "while x:\n",
        "    print(x.pop(0))"
      ],
      "metadata": {
        "colab": {
          "base_uri": "https://localhost:8080/"
        },
        "id": "CX1cvgYe7V8Y",
        "outputId": "60018ab7-db97-499d-a515-6545ad531e42"
      },
      "execution_count": null,
      "outputs": [
        {
          "output_type": "stream",
          "name": "stdout",
          "text": [
            "1\n",
            "2\n",
            "3\n",
            "4\n",
            "5\n"
          ]
        }
      ]
    },
    {
      "cell_type": "code",
      "source": [
        "x1 = [1, 2, 3, 4]\n",
        "\n",
        "x2 = []\n",
        "for x in x1:\n",
        "    x2.append(x + 1)\n",
        "\n",
        "print(x2)\n",
        "\n",
        "# List comprehension\n",
        "x3 = [x + 1 for x in x1]\n",
        "print(x3)\n",
        "\n",
        "x4 = ['Yes' if (x + 1 <= 3) else 'No' for x in x1]\n",
        "print(x4)"
      ],
      "metadata": {
        "colab": {
          "base_uri": "https://localhost:8080/"
        },
        "id": "tn12tCUAum0R",
        "outputId": "e9e19b17-c389-4131-848a-f5170a36ffed"
      },
      "execution_count": null,
      "outputs": [
        {
          "output_type": "stream",
          "name": "stdout",
          "text": [
            "[2, 3, 4, 5]\n",
            "[2, 3, 4, 5]\n",
            "['Yes', 'Yes', 'No', 'No']\n"
          ]
        }
      ]
    },
    {
      "cell_type": "code",
      "source": [
        "# Regular function\n",
        "def add(x, y):\n",
        "    return x + y\n",
        "\n",
        "# Lambda function\n",
        "add_lambda = lambda x, y: x + y\n",
        "\n",
        "# Both functions do the same thing\n",
        "print(add(2, 3))\n",
        "print(add_lambda(2, 3))\n",
        "\n",
        "list_mul = ['2','2','2']\n",
        "list_mul*2\n",
        "\n",
        "# num = int(input())\n",
        "num = 10\n",
        "\n",
        "# Write your code below\n",
        "\n",
        "if (num >= 0):\n",
        "    print(\"Positive number\")\n",
        "\n",
        "print(10 % 2)\n",
        "\n",
        "5 == (3 + 2)\n",
        "\n",
        "a = 3\n",
        "print(a + (33))\n",
        "\n",
        "a = '5a'\n",
        "int(a)\n",
        "\n",
        "a = int(input())\n",
        "b = int(input())\n",
        "c = int(input())\n",
        "\n",
        "if(a >= 0):\n",
        "    if (b % 2 == 0):\n",
        "        if (c % 3 == 0):\n",
        "            print(\"All conditions are satisfied\")\n",
        "else:\n",
        "    print(\"Conditions are not satisfied\")"
      ],
      "metadata": {
        "colab": {
          "base_uri": "https://localhost:8080/"
        },
        "id": "rOh13TER9J2p",
        "outputId": "63c3ad89-6227-4067-acac-853c1c0989b3"
      },
      "execution_count": null,
      "outputs": [
        {
          "output_type": "stream",
          "name": "stdout",
          "text": [
            "4\n",
            "6\n",
            "9\n",
            "All conditions are satisfied\n"
          ]
        }
      ]
    },
    {
      "cell_type": "code",
      "source": [
        "(lambda x: (x+2)*5/2)(4)\n",
        "\n",
        "i = '20'\n",
        "if i > 20:\n",
        "    print(1)\n",
        "else:\n",
        "    print(2)"
      ],
      "metadata": {
        "colab": {
          "base_uri": "https://localhost:8080/",
          "height": 211
        },
        "id": "nsjJhkYq-5Io",
        "outputId": "7160d7f3-7164-4b89-ed68-1b991089d117"
      },
      "execution_count": null,
      "outputs": [
        {
          "output_type": "error",
          "ename": "TypeError",
          "evalue": "'>' not supported between instances of 'str' and 'int'",
          "traceback": [
            "\u001b[0;31m---------------------------------------------------------------------------\u001b[0m",
            "\u001b[0;31mTypeError\u001b[0m                                 Traceback (most recent call last)",
            "\u001b[0;32m<ipython-input-10-e71d98dffa22>\u001b[0m in \u001b[0;36m<cell line: 4>\u001b[0;34m()\u001b[0m\n\u001b[1;32m      2\u001b[0m \u001b[0;34m\u001b[0m\u001b[0m\n\u001b[1;32m      3\u001b[0m \u001b[0mi\u001b[0m \u001b[0;34m=\u001b[0m \u001b[0;34m'20'\u001b[0m\u001b[0;34m\u001b[0m\u001b[0;34m\u001b[0m\u001b[0m\n\u001b[0;32m----> 4\u001b[0;31m \u001b[0;32mif\u001b[0m \u001b[0mi\u001b[0m \u001b[0;34m>\u001b[0m \u001b[0;36m20\u001b[0m\u001b[0;34m:\u001b[0m\u001b[0;34m\u001b[0m\u001b[0;34m\u001b[0m\u001b[0m\n\u001b[0m\u001b[1;32m      5\u001b[0m     \u001b[0mprint\u001b[0m\u001b[0;34m(\u001b[0m\u001b[0;36m1\u001b[0m\u001b[0;34m)\u001b[0m\u001b[0;34m\u001b[0m\u001b[0;34m\u001b[0m\u001b[0m\n\u001b[1;32m      6\u001b[0m \u001b[0;32melse\u001b[0m\u001b[0;34m:\u001b[0m\u001b[0;34m\u001b[0m\u001b[0;34m\u001b[0m\u001b[0m\n",
            "\u001b[0;31mTypeError\u001b[0m: '>' not supported between instances of 'str' and 'int'"
          ]
        }
      ]
    },
    {
      "cell_type": "code",
      "source": [
        "from google.colab import drive\n",
        "drive.mount('/content/drive')"
      ],
      "metadata": {
        "id": "vHK09QMQKB96"
      },
      "execution_count": null,
      "outputs": []
    },
    {
      "cell_type": "code",
      "source": [
        "repeated_list = [2] * 4\n",
        "print(repeated_list)"
      ],
      "metadata": {
        "colab": {
          "base_uri": "https://localhost:8080/"
        },
        "id": "5z6O7dTEQODT",
        "outputId": "bc90ef77-5de8-4ac7-fcaf-710d7cfdeac0"
      },
      "execution_count": null,
      "outputs": [
        {
          "output_type": "stream",
          "name": "stdout",
          "text": [
            "[2, 2, 2, 2]\n"
          ]
        }
      ]
    },
    {
      "cell_type": "code",
      "source": [
        "car = { \"brand\" : \"Audi\",\"model\" : \"Q2\", \"year\" : 1980}\n",
        "print(car)\n",
        "type(car)"
      ],
      "metadata": {
        "colab": {
          "base_uri": "https://localhost:8080/"
        },
        "id": "2tArRAu3RT30",
        "outputId": "267775e8-94b3-4ce8-e374-f8ad7560b6de"
      },
      "execution_count": null,
      "outputs": [
        {
          "output_type": "stream",
          "name": "stdout",
          "text": [
            "{'brand': 'Audi', 'model': 'Q2', 'year': 1980}\n"
          ]
        },
        {
          "output_type": "execute_result",
          "data": {
            "text/plain": [
              "dict"
            ]
          },
          "metadata": {},
          "execution_count": 22
        }
      ]
    },
    {
      "cell_type": "code",
      "source": [
        "def test1(*args):\n",
        "    return args\n",
        "\n",
        "my_list = [1, 2, 3]\n",
        "# test1(1, 2, 3)\n",
        "# test1(my_list)\n",
        "test1(*my_list)\n"
      ],
      "metadata": {
        "colab": {
          "base_uri": "https://localhost:8080/"
        },
        "id": "HZ-q-ataFvi1",
        "outputId": "a2f24f04-4532-45e8-a990-ea7aba8b27d3"
      },
      "execution_count": null,
      "outputs": [
        {
          "output_type": "execute_result",
          "data": {
            "text/plain": [
              "(1, 2, 3)"
            ]
          },
          "metadata": {},
          "execution_count": 10
        }
      ]
    },
    {
      "cell_type": "code",
      "source": [
        "from pyspark.sql import SparkSession\n",
        "spark = SparkSession.builder.getOrCreate()\n",
        "data = spark.read.csv(\"/content/sample_data/california_housing_test.csv\")\n",
        "data.show()\n",
        "# print(type(data))"
      ],
      "metadata": {
        "colab": {
          "base_uri": "https://localhost:8080/"
        },
        "id": "kasallguG3W6",
        "outputId": "049ef282-afaa-43ef-a6ea-689476804ec8"
      },
      "execution_count": null,
      "outputs": [
        {
          "output_type": "stream",
          "name": "stdout",
          "text": [
            "+-----------+---------+------------------+-----------+--------------+-----------+----------+-------------+------------------+\n",
            "|        _c0|      _c1|               _c2|        _c3|           _c4|        _c5|       _c6|          _c7|               _c8|\n",
            "+-----------+---------+------------------+-----------+--------------+-----------+----------+-------------+------------------+\n",
            "|  longitude| latitude|housing_median_age|total_rooms|total_bedrooms| population|households|median_income|median_house_value|\n",
            "|-122.050000|37.370000|         27.000000|3885.000000|    661.000000|1537.000000|606.000000|     6.608500|     344700.000000|\n",
            "|-118.300000|34.260000|         43.000000|1510.000000|    310.000000| 809.000000|277.000000|     3.599000|     176500.000000|\n",
            "|-117.810000|33.780000|         27.000000|3589.000000|    507.000000|1484.000000|495.000000|     5.793400|     270500.000000|\n",
            "|-118.360000|33.820000|         28.000000|  67.000000|     15.000000|  49.000000| 11.000000|     6.135900|     330000.000000|\n",
            "|-119.670000|36.330000|         19.000000|1241.000000|    244.000000| 850.000000|237.000000|     2.937500|      81700.000000|\n",
            "|-119.560000|36.510000|         37.000000|1018.000000|    213.000000| 663.000000|204.000000|     1.663500|      67000.000000|\n",
            "|-121.430000|38.630000|         43.000000|1009.000000|    225.000000| 604.000000|218.000000|     1.664100|      67000.000000|\n",
            "|-120.650000|35.480000|         19.000000|2310.000000|    471.000000|1341.000000|441.000000|     3.225000|     166900.000000|\n",
            "|-122.840000|38.400000|         15.000000|3080.000000|    617.000000|1446.000000|599.000000|     3.669600|     194400.000000|\n",
            "|-118.020000|34.080000|         31.000000|2402.000000|    632.000000|2830.000000|603.000000|     2.333300|     164200.000000|\n",
            "|-118.240000|33.980000|         45.000000| 972.000000|    249.000000|1288.000000|261.000000|     2.205400|     125000.000000|\n",
            "|-119.120000|35.850000|         37.000000| 736.000000|    166.000000| 564.000000|138.000000|     2.416700|      58300.000000|\n",
            "|-121.930000|37.250000|         36.000000|1089.000000|    182.000000| 535.000000|170.000000|     4.690000|     252600.000000|\n",
            "|-117.030000|32.970000|         16.000000|3936.000000|    694.000000|1935.000000|659.000000|     4.562500|     231200.000000|\n",
            "|-117.970000|33.730000|         27.000000|2097.000000|    325.000000|1217.000000|331.000000|     5.712100|     222500.000000|\n",
            "|-117.990000|33.810000|         42.000000| 161.000000|     40.000000| 157.000000| 50.000000|     2.200000|     153100.000000|\n",
            "|-120.810000|37.530000|         15.000000| 570.000000|    123.000000| 189.000000|107.000000|     1.875000|     181300.000000|\n",
            "|-121.200000|38.690000|         26.000000|3077.000000|    607.000000|1603.000000|595.000000|     2.717400|     137500.000000|\n",
            "|-118.880000|34.210000|         26.000000|1590.000000|    196.000000| 654.000000|199.000000|     6.585100|     300000.000000|\n",
            "+-----------+---------+------------------+-----------+--------------+-----------+----------+-------------+------------------+\n",
            "only showing top 20 rows\n",
            "\n",
            "<class 'pyspark.sql.dataframe.DataFrame'>\n"
          ]
        }
      ]
    },
    {
      "cell_type": "code",
      "source": [
        "from google.colab import drive\n",
        "drive.mount('/content/drive')"
      ],
      "metadata": {
        "id": "E4-ZT3jdJgWc"
      },
      "execution_count": null,
      "outputs": []
    },
    {
      "cell_type": "code",
      "source": [],
      "metadata": {
        "id": "G7q6jqrgG9YR"
      },
      "execution_count": null,
      "outputs": []
    }
  ]
}